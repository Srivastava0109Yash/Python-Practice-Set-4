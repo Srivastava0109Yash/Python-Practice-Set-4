{
 "cells": [
  {
   "cell_type": "markdown",
   "id": "24a273d8",
   "metadata": {},
   "source": [
    "### Q1. Create a class called \"Person\" with properties for \"name\", \"age\", and \"gender\". Create an object of this class and print out its properties."
   ]
  },
  {
   "cell_type": "code",
   "execution_count": 1,
   "id": "1c82fbdb",
   "metadata": {},
   "outputs": [],
   "source": [
    "class Person:\n",
    "    \n",
    "    def __init__(self,name,age,gender):\n",
    "        self.name=name\n",
    "        self.age=age\n",
    "        self.gender=gender\n",
    "        \n",
    "p= Person(\"Yash\",20,'Male')  "
   ]
  },
  {
   "cell_type": "code",
   "execution_count": 3,
   "id": "c1391ff4",
   "metadata": {},
   "outputs": [
    {
     "name": "stdout",
     "output_type": "stream",
     "text": [
      "Your name is Yash, your age 20,you are a Male\n"
     ]
    }
   ],
   "source": [
    "print(f\"Your name is {p.name}, your age {p.age},you are a {p.gender}\")"
   ]
  },
  {
   "cell_type": "markdown",
   "id": "e113dd18",
   "metadata": {},
   "source": [
    "### Q2. Write a Python class called \"Rectangle\" with attributes for \"width\" and \"height\". Implement methods to calculate the area and perimeter of the rectangle. Create an instance of this class and use it to print out the rectangle's area and perimeter."
   ]
  },
  {
   "cell_type": "code",
   "execution_count": 5,
   "id": "d4f011d6",
   "metadata": {},
   "outputs": [
    {
     "name": "stdout",
     "output_type": "stream",
     "text": [
      "Area: 6 and Perimeter: 10\n"
     ]
    }
   ],
   "source": [
    "class Rectangle:\n",
    "    \n",
    "    def __init__(self,width,height):\n",
    "        \n",
    "        self.width=width\n",
    "        self.height=height\n",
    "        \n",
    "    def area(self):\n",
    "        return self.width * self.height\n",
    "    \n",
    "    def perimeter(self):\n",
    "        return 2*self.width +2*self.height\n",
    "    \n",
    "rect=Rectangle(2,3)\n",
    "\n",
    "print(f\"Area: {rect.area()} and Perimeter: {rect.perimeter()}\")"
   ]
  },
  {
   "cell_type": "markdown",
   "id": "255c70c6",
   "metadata": {},
   "source": [
    "### Q3. Write a Python class called \"BankAccount\" with attributes for \"balance\" and \"interest_rate\". Implement methods to deposit and withdraw money from the account, as well as to calculate the interest earned on the balance based on the interest rate. Create an instance of this class and use it to test out the implemented methods for deposit, withdrawal, and interest calculation."
   ]
  },
  {
   "cell_type": "code",
   "execution_count": 8,
   "id": "fb2cf6c1",
   "metadata": {},
   "outputs": [
    {
     "name": "stdout",
     "output_type": "stream",
     "text": [
      "Initial Balance:  1000\n",
      "Balance after deposit:  2000\n",
      "Balance after withdraw:  1500\n",
      "Interest:  22.5\n"
     ]
    }
   ],
   "source": [
    "class BankAccount:\n",
    "    \n",
    "    def __init__(self,balance,interest_rate):\n",
    "        self.balance=balance\n",
    "        self.interest_rate=interest_rate\n",
    "        \n",
    "    def deposit(self,amount):\n",
    "        self.balance+=amount\n",
    "        \n",
    "    def withdraw(self,amount):\n",
    "        \n",
    "        if self.balance<amount:\n",
    "            print(\"Insufficient Balance\")\n",
    "            \n",
    "        else:\n",
    "            self.balance-=amount\n",
    "            \n",
    "            \n",
    "    def interest_calculation(self):\n",
    "        return self.balance*(self.interest_rate/100)\n",
    "\n",
    "acc=BankAccount(1000,1.5)\n",
    "\n",
    "print(\"Initial Balance: \",acc.balance)\n",
    "\n",
    "acc.deposit(1000)\n",
    "print(\"Balance after deposit: \",acc.balance)\n",
    "\n",
    "acc.withdraw(500)\n",
    "print(\"Balance after withdraw: \",acc.balance)\n",
    "\n",
    "print(\"Interest: \",acc.interest_calculation())"
   ]
  },
  {
   "cell_type": "markdown",
   "id": "2d28f13e",
   "metadata": {},
   "source": [
    "### Q4. Write a Python class called \"Animal\" with attributes for \"name\" and \"species\". Create a subclass of \"Animal\" called \"Dog\" with additional attributes for \"breed\" and \"owner\". Implement both classes with appropriate methods and constructors to initialise their properties. Create instances of both classes and use them to print out the various properties of the animals and dogs, such as their names, species, breeds, and owners."
   ]
  },
  {
   "cell_type": "code",
   "execution_count": 9,
   "id": "5ca1b489",
   "metadata": {},
   "outputs": [
    {
     "name": "stdout",
     "output_type": "stream",
     "text": [
      "Animal name: Kitty\n",
      "Animal species: Cat\n",
      "Dog name: Max\n",
      "Dog species: Dog\n",
      "Dog breed: Labrador\n",
      "Dog owner: Yash\n"
     ]
    }
   ],
   "source": [
    "class Animal:\n",
    "    \n",
    "    def __init__(self,name,species):\n",
    "        self.name = name\n",
    "        self.species = species\n",
    "        \n",
    "class Dog(Animal):\n",
    "    def __init__(self, name, species, breed, owner):\n",
    "        super().__init__(name, species)\n",
    "        self.breed = breed\n",
    "        self.owner = owner\n",
    "        \n",
    "        \n",
    "animal1 = Animal(\"Kitty\", \"Cat\")\n",
    "print(\"Animal name:\", animal1.name)\n",
    "print(\"Animal species:\", animal1.species)\n",
    "\n",
    "dog1 = Dog(\"Max\", \"Dog\", \"Labrador\", \"Yash\")\n",
    "print(\"Dog name:\", dog1.name)\n",
    "print(\"Dog species:\", dog1.species)\n",
    "print(\"Dog breed:\", dog1.breed)\n",
    "print(\"Dog owner:\", dog1.owner)"
   ]
  },
  {
   "cell_type": "markdown",
   "id": "bee4e3e6",
   "metadata": {},
   "source": [
    "### Q5. Create a class called \"Car\" with properties for \"make\", \"model\", and \"year\". Create a subclass of \"Car\"called \"ElectricCar\" with additional properties for \"battery_size\" and \"range\". Create objects of both classes and print out their properties."
   ]
  },
  {
   "cell_type": "code",
   "execution_count": 10,
   "id": "47f021dd",
   "metadata": {},
   "outputs": [],
   "source": [
    "class Car:\n",
    "    def __init__(self,make,model,year):\n",
    "        self.make=make\n",
    "        self.model=model\n",
    "        self.year=year\n",
    "        \n",
    "class ElectricCar(Car):\n",
    "    def __init__(self,make,model,year,battery_size, rrange):\n",
    "        self.make=make\n",
    "        self.model=model\n",
    "        self.year=year\n",
    "        self.battery_size=battery_size\n",
    "        self.rrange=rrange              "
   ]
  },
  {
   "cell_type": "code",
   "execution_count": 12,
   "id": "55fa46bd",
   "metadata": {},
   "outputs": [
    {
     "name": "stdout",
     "output_type": "stream",
     "text": [
      "Car make: Toyota\n",
      "Car model: Supra\n",
      "Car year: 2020\n"
     ]
    }
   ],
   "source": [
    "car1 = Car(\"Toyota\", \"Supra\", 2020)\n",
    "print(\"Car make:\", car1.make)\n",
    "print(\"Car model:\", car1.model)\n",
    "print(\"Car year:\", car1.year)"
   ]
  },
  {
   "cell_type": "code",
   "execution_count": 14,
   "id": "3bd7df33",
   "metadata": {},
   "outputs": [
    {
     "name": "stdout",
     "output_type": "stream",
     "text": [
      "Electric car make: Tesla\n",
      "Electric car model: Model S\n",
      "Electric car year: 2022\n",
      "Electric car battery size (kWh): 100\n",
      "Electric car range (miles): 400\n"
     ]
    }
   ],
   "source": [
    "electric_car1 = ElectricCar(\"Tesla\", \"Model S\", 2022, 100, 400)\n",
    "print(\"Electric car make:\", electric_car1.make)\n",
    "print(\"Electric car model:\", electric_car1.model)\n",
    "print(\"Electric car year:\", electric_car1.year)\n",
    "print(\"Electric car battery size (kWh):\", electric_car1.battery_size)\n",
    "print(\"Electric car range (miles):\", electric_car1.rrange)"
   ]
  },
  {
   "cell_type": "markdown",
   "id": "ba52dbee",
   "metadata": {},
   "source": [
    "### Q6. Create a class called \"Student\" with properties for \"name\" and \"id\". Create a subclass of \"Student\" called \"GraduateStudent\" with additional properties for \"advisor\" and \"research_area\". Create objects of both classes and print out their properties."
   ]
  },
  {
   "cell_type": "code",
   "execution_count": 15,
   "id": "2bdfbea6",
   "metadata": {},
   "outputs": [],
   "source": [
    "class Student:\n",
    "    def __init__(self,name,id):\n",
    "        self.name=name\n",
    "        self.id=id\n",
    "        \n",
    "class GraduateStudent(Student):\n",
    "    def __init__(self, name, id, advisor, research_area):\n",
    "        super().__init__(name, id)\n",
    "        self.advisor = advisor\n",
    "        self.research_area = research_area        "
   ]
  },
  {
   "cell_type": "code",
   "execution_count": 20,
   "id": "9e052cf3",
   "metadata": {},
   "outputs": [],
   "source": [
    "stud1=Student(\"Yash\",1099)\n",
    "\n",
    "grad_stud=GraduateStudent(\"Aman\",1001,\"Dr.Smith\",\"Machine Learning\")"
   ]
  },
  {
   "cell_type": "code",
   "execution_count": 18,
   "id": "51b11806",
   "metadata": {},
   "outputs": [
    {
     "name": "stdout",
     "output_type": "stream",
     "text": [
      "Name: Yash\n",
      "ID: 1099\n"
     ]
    }
   ],
   "source": [
    "print(\"Name:\", stud1.name)\n",
    "print(\"ID:\", stud1.id)"
   ]
  },
  {
   "cell_type": "code",
   "execution_count": 21,
   "id": "a18bd850",
   "metadata": {},
   "outputs": [
    {
     "name": "stdout",
     "output_type": "stream",
     "text": [
      "Name: Aman\n",
      "ID: 1001\n",
      "Advisor: Dr.Smith\n",
      "Research Area: Machine Learning\n"
     ]
    }
   ],
   "source": [
    "print(\"Name:\", grad_stud.name)\n",
    "print(\"ID:\", grad_stud.id)\n",
    "print(\"Advisor:\", grad_stud.advisor)\n",
    "print(\"Research Area:\", grad_stud.research_area)"
   ]
  },
  {
   "cell_type": "markdown",
   "id": "f0e8dc47",
   "metadata": {},
   "source": [
    "### Q7. Create a class called \"Shape\" with methods to calculate the area and perimeter of the shape. Createsubclasses of \"Shape\" for \"Rectangle\", \"Circle\", and \"Triangle\" with their own methods for calculating areaand perimeter. Create objects of each class and print out their area and perimeter."
   ]
  },
  {
   "cell_type": "code",
   "execution_count": 22,
   "id": "8f658bed",
   "metadata": {},
   "outputs": [],
   "source": [
    "import math"
   ]
  },
  {
   "cell_type": "code",
   "execution_count": 23,
   "id": "07f7e540",
   "metadata": {},
   "outputs": [],
   "source": [
    "import math\n",
    "\n",
    "class Shape:\n",
    "    def area(self):\n",
    "        pass\n",
    "    \n",
    "    def perimeter(self):\n",
    "        pass\n",
    "\n",
    "class Rectangle(Shape):\n",
    "    def __init__(self, width, height):\n",
    "        self.width=width\n",
    "        self.height=height\n",
    "    \n",
    "    def area(self):\n",
    "        return self.width*self.height\n",
    "    \n",
    "    def perimeter(self):\n",
    "        return 2*(self.width+self.height)\n",
    "\n",
    "class Circle(Shape):\n",
    "    def __init__(self, radius):\n",
    "        self.radius=radius\n",
    "    \n",
    "    def area(self):\n",
    "        return math.pi*self.radius**2\n",
    "    \n",
    "    def perimeter(self):\n",
    "        return 2*math.pi*self.radius\n",
    "\n",
    "class Triangle(Shape):\n",
    "    def __init__(self, base, height, side1, side2, side3):\n",
    "        self.base=base\n",
    "        self.height=height\n",
    "        self.side1=side1\n",
    "        self.side2=side2\n",
    "        self.side3=side3\n",
    "    \n",
    "    def area(self):\n",
    "        return 0.5*self.base*self.height\n",
    "    \n",
    "    def perimeter(self):\n",
    "        return self.side1+self.side2+self.side3\n"
   ]
  },
  {
   "cell_type": "code",
   "execution_count": 24,
   "id": "22c3b2c0",
   "metadata": {},
   "outputs": [
    {
     "name": "stdout",
     "output_type": "stream",
     "text": [
      "Rectangle Area: 20\n",
      "Rectangle Perimeter: 18\n"
     ]
    }
   ],
   "source": [
    "rectangle1=Rectangle(4,5)\n",
    "print(\"Rectangle Area:\", rectangle1.area())\n",
    "print(\"Rectangle Perimeter:\", rectangle1.perimeter())"
   ]
  },
  {
   "cell_type": "code",
   "execution_count": 25,
   "id": "86100889",
   "metadata": {},
   "outputs": [
    {
     "name": "stdout",
     "output_type": "stream",
     "text": [
      "Circle Area: 28.274333882308138\n",
      "Circle Perimeter: 18.84955592153876\n"
     ]
    }
   ],
   "source": [
    "circle1=Circle(3)\n",
    "print(\"Circle Area:\", circle1.area())\n",
    "print(\"Circle Perimeter:\", circle1.perimeter())"
   ]
  },
  {
   "cell_type": "code",
   "execution_count": 27,
   "id": "863d4f74",
   "metadata": {},
   "outputs": [
    {
     "name": "stdout",
     "output_type": "stream",
     "text": [
      "Triangle Area: 10.0\n",
      "Triangle Perimeter: 17\n"
     ]
    }
   ],
   "source": [
    "triangle1=Triangle(4,5,5,6,6)\n",
    "print(\"Triangle Area:\", triangle1.area())\n",
    "print(\"Triangle Perimeter:\", triangle1.perimeter())"
   ]
  },
  {
   "cell_type": "markdown",
   "id": "829a09da",
   "metadata": {},
   "source": [
    "### Q8. Create a class called \"Employee\" with properties for \"name\", \"id\", and \"salary\". Add methods to give the employee a raise and to calculate their annual salary. Create objects of this class and test out the methods."
   ]
  },
  {
   "cell_type": "code",
   "execution_count": 28,
   "id": "abe7b4f4",
   "metadata": {},
   "outputs": [],
   "source": [
    "class Employee:\n",
    "    \n",
    "    def __init__(self,name,id,salary):\n",
    "        self.name=name\n",
    "        self.id=id\n",
    "        self.salary=salary\n",
    "        \n",
    "    def give_raise(self,amount):\n",
    "        self.salary+=amount\n",
    "        \n",
    "    def annual_salary(self):\n",
    "        return self.salary*12"
   ]
  },
  {
   "cell_type": "code",
   "execution_count": 29,
   "id": "501b40ac",
   "metadata": {},
   "outputs": [],
   "source": [
    "emp=Employee(\"Yash Srivastava\",1099,80000)\n",
    "\n",
    "emp.give_raise(29000)"
   ]
  },
  {
   "cell_type": "code",
   "execution_count": 31,
   "id": "dcfa1fa9",
   "metadata": {},
   "outputs": [
    {
     "name": "stdout",
     "output_type": "stream",
     "text": [
      "Employee name:  Yash Srivastava\n",
      "Employee ID:  1099\n",
      "Employee Salary:  109000\n",
      "Employee annual salary:  1308000\n"
     ]
    }
   ],
   "source": [
    "print(\"Employee name: \",emp.name)\n",
    "print(\"Employee ID: \",emp.id)\n",
    "print(\"Employee Salary: \",emp.salary)\n",
    "print(\"Employee annual salary: \",emp.annual_salary())"
   ]
  },
  {
   "cell_type": "markdown",
   "id": "dedbf845",
   "metadata": {},
   "source": [
    "### Q9. Create a class called \"Book\" with properties for \"title\", \"author\", and \"publisher\". Create a subclass of \"Book\" called \"Ebook\" with additional properties for \"file_format\" and \"file_size\". Create objects of both classes and print out their properties."
   ]
  },
  {
   "cell_type": "code",
   "execution_count": 32,
   "id": "92b7f9b0",
   "metadata": {},
   "outputs": [],
   "source": [
    "class Book:\n",
    "    def __init__(self,title,author,publisher):\n",
    "        self.title=title\n",
    "        self.author=author\n",
    "        self.publisher=publisher\n",
    "        \n",
    "class Ebook(Book):\n",
    "    def __init__(self,title,author,publisher,file_format,file_size):\n",
    "        super().__init__(title,author,publisher)\n",
    "        self.file_format=file_format\n",
    "        self.file_size=file_size"
   ]
  },
  {
   "cell_type": "code",
   "execution_count": 33,
   "id": "5af015b8",
   "metadata": {},
   "outputs": [
    {
     "name": "stdout",
     "output_type": "stream",
     "text": [
      "Book title: ABC\n",
      "Book author: Mr.XYZ\n",
      "Book publisher: Mr.KYC\n"
     ]
    }
   ],
   "source": [
    "book1=Book(\"ABC\",'Mr.XYZ','Mr.KYC')\n",
    "print(f\"Book title: {book1.title}\")\n",
    "print(f\"Book author: {book1.author}\")\n",
    "print(f\"Book publisher: {book1.publisher}\")"
   ]
  },
  {
   "cell_type": "code",
   "execution_count": 34,
   "id": "3a4eb2ba",
   "metadata": {},
   "outputs": [
    {
     "name": "stdout",
     "output_type": "stream",
     "text": [
      "Ebook title: ABC\n",
      "Ebook author: Mr.XYZ\n",
      "Ebook publisher: Mr.KYC\n",
      "Ebook file format: PDF\n",
      "Ebook file size: 3 MB\n"
     ]
    }
   ],
   "source": [
    "ebook1=Ebook(\"ABC\",'Mr.XYZ','Mr.KYC',\"PDF\",\"3 MB\")\n",
    "print(f\"Ebook title: {ebook1.title}\")\n",
    "print(f\"Ebook author: {ebook1.author}\")\n",
    "print(f\"Ebook publisher: {ebook1.publisher}\")\n",
    "print(f\"Ebook file format: {ebook1.file_format}\")\n",
    "print(f\"Ebook file size: {ebook1.file_size}\")"
   ]
  },
  {
   "cell_type": "markdown",
   "id": "0e01c8d0",
   "metadata": {},
   "source": [
    "### Q10. Create a class called \"Bank\" with properties for \"name\" and \"accounts\". Add methods to create new accounts, deposit and withdraw money from accounts, and to calculate the total balance of all accounts.Create an object of this class and test out the methods."
   ]
  },
  {
   "cell_type": "code",
   "execution_count": 35,
   "id": "934ce631",
   "metadata": {},
   "outputs": [],
   "source": [
    "class Bank:\n",
    "    def __init__(self, name):\n",
    "        self.name = name\n",
    "        self.accounts = {}\n",
    "\n",
    "    def create_account(self, account_number, initial_balance=0):\n",
    "        self.accounts[account_number] = initial_balance\n",
    "\n",
    "    def deposit(self, account_number, amount):\n",
    "        if account_number in self.accounts:\n",
    "            self.accounts[account_number] += amount\n",
    "        else:\n",
    "            print(\"Account not found.\")\n",
    "\n",
    "    def withdraw(self, account_number, amount):\n",
    "        if account_number in self.accounts:\n",
    "            if self.accounts[account_number] >= amount:\n",
    "                self.accounts[account_number] -= amount\n",
    "            else:\n",
    "                print(\"Insufficient funds.\")\n",
    "        else:\n",
    "            print(\"Account not found.\")\n",
    "\n",
    "    def total_balance(self):\n",
    "        return sum(self.accounts.values())"
   ]
  },
  {
   "cell_type": "code",
   "execution_count": 36,
   "id": "f1f6c15d",
   "metadata": {},
   "outputs": [
    {
     "name": "stdout",
     "output_type": "stream",
     "text": [
      "Bank name: Hemant\n",
      "Account number: 1001, Balance: 7500\n",
      "Account number: 1002, Balance: 5000\n",
      "Total balance: 12500\n"
     ]
    }
   ],
   "source": [
    "my_bank = Bank(\"Hemant\")\n",
    "my_bank.create_account(1001, 5000)\n",
    "my_bank.create_account(1002, 10000)\n",
    "\n",
    "my_bank.deposit(1001, 2500)\n",
    "\n",
    "my_bank.withdraw(1002, 5000)\n",
    "\n",
    "total = my_bank.total_balance()\n",
    "\n",
    "print(f\"Bank name: {my_bank.name}\")\n",
    "for account, balance in my_bank.accounts.items():\n",
    "    print(f\"Account number: {account}, Balance: {balance}\")\n",
    "print(f\"Total balance: {total}\")\n"
   ]
  },
  {
   "cell_type": "code",
   "execution_count": null,
   "id": "6f4298f4",
   "metadata": {},
   "outputs": [],
   "source": []
  }
 ],
 "metadata": {
  "kernelspec": {
   "display_name": "Python 3 (ipykernel)",
   "language": "python",
   "name": "python3"
  },
  "language_info": {
   "codemirror_mode": {
    "name": "ipython",
    "version": 3
   },
   "file_extension": ".py",
   "mimetype": "text/x-python",
   "name": "python",
   "nbconvert_exporter": "python",
   "pygments_lexer": "ipython3",
   "version": "3.9.7"
  }
 },
 "nbformat": 4,
 "nbformat_minor": 5
}
